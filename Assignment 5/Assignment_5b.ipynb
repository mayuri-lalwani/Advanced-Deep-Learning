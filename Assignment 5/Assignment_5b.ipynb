{
  "nbformat": 4,
  "nbformat_minor": 0,
  "metadata": {
    "colab": {
      "name": "Assignment 5b.ipynb",
      "provenance": []
    },
    "kernelspec": {
      "name": "python3",
      "display_name": "Python 3"
    },
    "language_info": {
      "name": "python"
    }
  },
  "cells": [
    {
      "cell_type": "code",
      "metadata": {
        "colab": {
          "base_uri": "https://localhost:8080/"
        },
        "id": "OvcnhTUKkFse",
        "outputId": "0092c722-1538-47b3-9750-c3c1d57de40f"
      },
      "source": [
        "!wget https://raw.githubusercontent.com/drawbridge/keras-mmoe/master/mmoe.py\n",
        "!wget https://github.com/drawbridge/keras-mmoe/blob/master/data/census-income.data.gz?raw=true -O census-income.data.gz\n",
        "!wget https://github.com/drawbridge/keras-mmoe/blob/master/data/census-income.test.gz?raw=true -O census-income.test.gz"
      ],
      "execution_count": 1,
      "outputs": [
        {
          "output_type": "stream",
          "name": "stdout",
          "text": [
            "--2021-11-11 01:15:42--  https://raw.githubusercontent.com/drawbridge/keras-mmoe/master/mmoe.py\n",
            "Resolving raw.githubusercontent.com (raw.githubusercontent.com)... 185.199.108.133, 185.199.109.133, 185.199.110.133, ...\n",
            "Connecting to raw.githubusercontent.com (raw.githubusercontent.com)|185.199.108.133|:443... connected.\n",
            "HTTP request sent, awaiting response... 200 OK\n",
            "Length: 11077 (11K) [text/plain]\n",
            "Saving to: ‘mmoe.py’\n",
            "\n",
            "\rmmoe.py               0%[                    ]       0  --.-KB/s               \rmmoe.py             100%[===================>]  10.82K  --.-KB/s    in 0s      \n",
            "\n",
            "2021-11-11 01:15:42 (56.7 MB/s) - ‘mmoe.py’ saved [11077/11077]\n",
            "\n",
            "--2021-11-11 01:15:42--  https://github.com/drawbridge/keras-mmoe/blob/master/data/census-income.data.gz?raw=true\n",
            "Resolving github.com (github.com)... 140.82.112.4\n",
            "Connecting to github.com (github.com)|140.82.112.4|:443... connected.\n",
            "HTTP request sent, awaiting response... 302 Found\n",
            "Location: https://github.com/drawbridge/keras-mmoe/raw/master/data/census-income.data.gz [following]\n",
            "--2021-11-11 01:15:42--  https://github.com/drawbridge/keras-mmoe/raw/master/data/census-income.data.gz\n",
            "Reusing existing connection to github.com:443.\n",
            "HTTP request sent, awaiting response... 302 Found\n",
            "Location: https://raw.githubusercontent.com/drawbridge/keras-mmoe/master/data/census-income.data.gz [following]\n",
            "--2021-11-11 01:15:42--  https://raw.githubusercontent.com/drawbridge/keras-mmoe/master/data/census-income.data.gz\n",
            "Resolving raw.githubusercontent.com (raw.githubusercontent.com)... 185.199.108.133, 185.199.111.133, 185.199.109.133, ...\n",
            "Connecting to raw.githubusercontent.com (raw.githubusercontent.com)|185.199.108.133|:443... connected.\n",
            "HTTP request sent, awaiting response... 200 OK\n",
            "Length: 6524338 (6.2M) [application/octet-stream]\n",
            "Saving to: ‘census-income.data.gz’\n",
            "\n",
            "census-income.data. 100%[===================>]   6.22M  --.-KB/s    in 0.05s   \n",
            "\n",
            "2021-11-11 01:15:42 (129 MB/s) - ‘census-income.data.gz’ saved [6524338/6524338]\n",
            "\n",
            "--2021-11-11 01:15:42--  https://github.com/drawbridge/keras-mmoe/blob/master/data/census-income.test.gz?raw=true\n",
            "Resolving github.com (github.com)... 140.82.114.4\n",
            "Connecting to github.com (github.com)|140.82.114.4|:443... connected.\n",
            "HTTP request sent, awaiting response... 302 Found\n",
            "Location: https://github.com/drawbridge/keras-mmoe/raw/master/data/census-income.test.gz [following]\n",
            "--2021-11-11 01:15:42--  https://github.com/drawbridge/keras-mmoe/raw/master/data/census-income.test.gz\n",
            "Reusing existing connection to github.com:443.\n",
            "HTTP request sent, awaiting response... 302 Found\n",
            "Location: https://raw.githubusercontent.com/drawbridge/keras-mmoe/master/data/census-income.test.gz [following]\n",
            "--2021-11-11 01:15:43--  https://raw.githubusercontent.com/drawbridge/keras-mmoe/master/data/census-income.test.gz\n",
            "Resolving raw.githubusercontent.com (raw.githubusercontent.com)... 185.199.108.133, 185.199.109.133, 185.199.110.133, ...\n",
            "Connecting to raw.githubusercontent.com (raw.githubusercontent.com)|185.199.108.133|:443... connected.\n",
            "HTTP request sent, awaiting response... 200 OK\n",
            "Length: 3261416 (3.1M) [application/octet-stream]\n",
            "Saving to: ‘census-income.test.gz’\n",
            "\n",
            "census-income.test. 100%[===================>]   3.11M  --.-KB/s    in 0.03s   \n",
            "\n",
            "2021-11-11 01:15:43 (114 MB/s) - ‘census-income.test.gz’ saved [3261416/3261416]\n",
            "\n"
          ]
        }
      ]
    },
    {
      "cell_type": "code",
      "metadata": {
        "id": "ljMVz5kfkKvF"
      },
      "source": [
        "import random\n",
        "\n",
        "import pandas as pd\n",
        "import numpy as np\n",
        "import tensorflow as tf\n",
        "from tensorflow.keras import backend as K\n",
        "from tensorflow.keras.optimizers import Adam\n",
        "from tensorflow.keras.initializers import VarianceScaling\n",
        "from tensorflow.keras.layers import Input, Dense\n",
        "from tensorflow.keras.models import Model\n",
        "from tensorflow.keras.utils import to_categorical\n",
        "from tensorflow.keras.callbacks import Callback\n",
        "from sklearn.metrics import roc_auc_score\n",
        "\n",
        "from mmoe import MMoE"
      ],
      "execution_count": 2,
      "outputs": []
    },
    {
      "cell_type": "code",
      "metadata": {
        "id": "JYWQWR5EkODQ"
      },
      "source": [
        "SEED = 1\n",
        "\n",
        "# Fix numpy seed for reproducibility\n",
        "np.random.seed(SEED)\n",
        "\n",
        "# Fix random seed for reproducibility\n",
        "random.seed(SEED)\n",
        "\n",
        "# Fix TensorFlow graph-level seed for reproducibility\n",
        "tf.random.set_seed(SEED)"
      ],
      "execution_count": 3,
      "outputs": []
    },
    {
      "cell_type": "code",
      "metadata": {
        "id": "zTRT4_KEkRSk"
      },
      "source": [
        "# Simple callback to print out ROC-AUC\n",
        "class ROCCallback(Callback):\n",
        "    def __init__(self, training_data, validation_data, test_data):\n",
        "        self.train_X = training_data[0]\n",
        "        self.train_Y = training_data[1]\n",
        "        self.validation_X = validation_data[0]\n",
        "        self.validation_Y = validation_data[1]\n",
        "        self.test_X = test_data[0]\n",
        "        self.test_Y = test_data[1]\n",
        "\n",
        "    def on_train_begin(self, logs={}):\n",
        "        return\n",
        "\n",
        "    def on_train_end(self, logs={}):\n",
        "        return\n",
        "\n",
        "    def on_epoch_begin(self, epoch, logs={}):\n",
        "        return\n",
        "\n",
        "    def on_epoch_end(self, epoch, logs={}):\n",
        "        train_prediction = self.model.predict(self.train_X)\n",
        "        validation_prediction = self.model.predict(self.validation_X)\n",
        "        test_prediction = self.model.predict(self.test_X)\n",
        "\n",
        "        # Iterate through each task and output their ROC-AUC across different datasets\n",
        "        for index, output_name in enumerate(self.model.output_names):\n",
        "            train_roc_auc = roc_auc_score(self.train_Y[index], train_prediction[index])\n",
        "            validation_roc_auc = roc_auc_score(self.validation_Y[index], validation_prediction[index])\n",
        "            test_roc_auc = roc_auc_score(self.test_Y[index], test_prediction[index])\n",
        "            print(\n",
        "                'ROC-AUC-{}-Train: {} ROC-AUC-{}-Validation: {} ROC-AUC-{}-Test: {}'.format(\n",
        "                    output_name, round(train_roc_auc, 4),\n",
        "                    output_name, round(validation_roc_auc, 4),\n",
        "                    output_name, round(test_roc_auc, 4)\n",
        "                )\n",
        "            )\n",
        "\n",
        "        return\n",
        "\n",
        "    def on_batch_begin(self, batch, logs={}):\n",
        "        return\n",
        "\n",
        "    def on_batch_end(self, batch, logs={}):\n",
        "        return"
      ],
      "execution_count": 4,
      "outputs": []
    },
    {
      "cell_type": "code",
      "metadata": {
        "id": "NtAgaZ8WkWBM"
      },
      "source": [
        "def data_preparation():\n",
        "    # The column names are from\n",
        "    # https://www2.1010data.com/documentationcenter/prod/Tutorials/MachineLearningExamples/CensusIncomeDataSet.html\n",
        "    column_names = ['age', 'class_worker', 'det_ind_code', 'det_occ_code', 'education', 'wage_per_hour', 'hs_college',\n",
        "                    'marital_stat', 'major_ind_code', 'major_occ_code', 'race', 'hisp_origin', 'sex', 'union_member',\n",
        "                    'unemp_reason', 'full_or_part_emp', 'capital_gains', 'capital_losses', 'stock_dividends',\n",
        "                    'tax_filer_stat', 'region_prev_res', 'state_prev_res', 'det_hh_fam_stat', 'det_hh_summ',\n",
        "                    'instance_weight', 'mig_chg_msa', 'mig_chg_reg', 'mig_move_reg', 'mig_same', 'mig_prev_sunbelt',\n",
        "                    'num_emp', 'fam_under_18', 'country_father', 'country_mother', 'country_self', 'citizenship',\n",
        "                    'own_or_self', 'vet_question', 'vet_benefits', 'weeks_worked', 'year', 'income_50k']\n",
        "\n",
        "    # Load the dataset in Pandas\n",
        "    train_df = pd.read_csv(\n",
        "        'census-income.data.gz',\n",
        "        delimiter=',',\n",
        "        header=None,\n",
        "        index_col=None,\n",
        "        names=column_names\n",
        "    )\n",
        "    other_df = pd.read_csv(\n",
        "        'census-income.test.gz',\n",
        "        delimiter=',',\n",
        "        header=None,\n",
        "        index_col=None,\n",
        "        names=column_names\n",
        "    )\n",
        "\n",
        "    # First group of tasks according to the paper\n",
        "    label_columns = ['income_50k', 'marital_stat']\n",
        "\n",
        "    # One-hot encoding categorical columns\n",
        "    categorical_columns = ['class_worker', 'det_ind_code', 'det_occ_code', 'education', 'hs_college', 'major_ind_code',\n",
        "                           'major_occ_code', 'race', 'hisp_origin', 'sex', 'union_member', 'unemp_reason',\n",
        "                           'full_or_part_emp', 'tax_filer_stat', 'region_prev_res', 'state_prev_res', 'det_hh_fam_stat',\n",
        "                           'det_hh_summ', 'mig_chg_msa', 'mig_chg_reg', 'mig_move_reg', 'mig_same', 'mig_prev_sunbelt',\n",
        "                           'fam_under_18', 'country_father', 'country_mother', 'country_self', 'citizenship',\n",
        "                           'vet_question']\n",
        "    train_raw_labels = train_df[label_columns]\n",
        "    other_raw_labels = other_df[label_columns]\n",
        "    transformed_train = pd.get_dummies(train_df.drop(label_columns, axis=1), columns=categorical_columns)\n",
        "    transformed_other = pd.get_dummies(other_df.drop(label_columns, axis=1), columns=categorical_columns)\n",
        "\n",
        "    # Filling the missing column in the other set\n",
        "    transformed_other['det_hh_fam_stat_ Grandchild <18 ever marr not in subfamily'] = 0\n",
        "\n",
        "    # One-hot encoding categorical labels\n",
        "    train_income = to_categorical((train_raw_labels.income_50k == ' 50000+.').astype(int), num_classes=2)\n",
        "    train_marital = to_categorical((train_raw_labels.marital_stat == ' Never married').astype(int), num_classes=2)\n",
        "    other_income = to_categorical((other_raw_labels.income_50k == ' 50000+.').astype(int), num_classes=2)\n",
        "    other_marital = to_categorical((other_raw_labels.marital_stat == ' Never married').astype(int), num_classes=2)\n",
        "\n",
        "    dict_outputs = {\n",
        "        'income': train_income.shape[1],\n",
        "        'marital': train_marital.shape[1]\n",
        "    }\n",
        "    dict_train_labels = {\n",
        "        'income': train_income,\n",
        "        'marital': train_marital\n",
        "    }\n",
        "    dict_other_labels = {\n",
        "        'income': other_income,\n",
        "        'marital': other_marital\n",
        "    }\n",
        "    output_info = [(dict_outputs[key], key) for key in sorted(dict_outputs.keys())]\n",
        "\n",
        "    # Split the other dataset into 1:1 validation to test according to the paper\n",
        "    validation_indices = transformed_other.sample(frac=0.5, replace=False, random_state=SEED).index\n",
        "    test_indices = list(set(transformed_other.index) - set(validation_indices))\n",
        "    validation_data = transformed_other.iloc[validation_indices]\n",
        "    validation_label = [dict_other_labels[key][validation_indices] for key in sorted(dict_other_labels.keys())]\n",
        "    test_data = transformed_other.iloc[test_indices]\n",
        "    test_label = [dict_other_labels[key][test_indices] for key in sorted(dict_other_labels.keys())]\n",
        "    train_data = transformed_train\n",
        "    train_label = [dict_train_labels[key] for key in sorted(dict_train_labels.keys())]\n",
        "\n",
        "    return train_data, train_label, validation_data, validation_label, test_data, test_label, output_info"
      ],
      "execution_count": 5,
      "outputs": []
    },
    {
      "cell_type": "code",
      "metadata": {
        "colab": {
          "base_uri": "https://localhost:8080/"
        },
        "id": "NupYZANzkfIQ",
        "outputId": "2602fff2-3465-455c-d4ba-1977ef5da4f3"
      },
      "source": [
        "# Load the data\n",
        "train_data, train_label, validation_data, validation_label, test_data, test_label, output_info = data_preparation()\n",
        "num_features = train_data.shape[1]\n",
        "\n",
        "print('Training data shape = {}'.format(train_data.shape))\n",
        "print('Validation data shape = {}'.format(validation_data.shape))\n",
        "print('Test data shape = {}'.format(test_data.shape))"
      ],
      "execution_count": 6,
      "outputs": [
        {
          "output_type": "stream",
          "name": "stdout",
          "text": [
            "Training data shape = (199523, 499)\n",
            "Validation data shape = (49881, 499)\n",
            "Test data shape = (49881, 499)\n"
          ]
        }
      ]
    },
    {
      "cell_type": "code",
      "metadata": {
        "id": "T0I91RAmkjjH"
      },
      "source": [
        "# Set up the input layer\n",
        "input_layer = Input(shape=(num_features,))\n",
        "\n",
        "# Set up MMoE layer\n",
        "mmoe_layers = MMoE(\n",
        "    units=4,\n",
        "    num_experts=8,\n",
        "    num_tasks=2\n",
        ")(input_layer)\n",
        "\n",
        "output_layers = []"
      ],
      "execution_count": 7,
      "outputs": []
    },
    {
      "cell_type": "code",
      "metadata": {
        "id": "xkz80uj6kmYw"
      },
      "source": [
        "# Build tower layer from MMoE layer\n",
        "for index, task_layer in enumerate(mmoe_layers):\n",
        "    tower_layer = Dense(\n",
        "        units=8,\n",
        "        activation='relu',\n",
        "        kernel_initializer=VarianceScaling())(task_layer)\n",
        "    output_layer = Dense(\n",
        "        units=output_info[index][0],\n",
        "        name=output_info[index][1],\n",
        "        activation='softmax',\n",
        "        kernel_initializer=VarianceScaling())(tower_layer)\n",
        "    output_layers.append(output_layer)"
      ],
      "execution_count": 8,
      "outputs": []
    },
    {
      "cell_type": "code",
      "metadata": {
        "id": "pMpb1ubZkpDy"
      },
      "source": [
        "# Compile model\n",
        "model = Model(inputs=[input_layer], outputs=output_layers)\n",
        "adam_optimizer = Adam()\n",
        "model.compile(\n",
        "    loss={'income': 'binary_crossentropy', 'marital': 'binary_crossentropy'},\n",
        "    optimizer=adam_optimizer,\n",
        "    metrics=['accuracy']\n",
        ")"
      ],
      "execution_count": 9,
      "outputs": []
    },
    {
      "cell_type": "code",
      "metadata": {
        "colab": {
          "base_uri": "https://localhost:8080/"
        },
        "id": "6PJDluHnkru7",
        "outputId": "b16becf0-594d-4d0b-99d2-c397e737f50e"
      },
      "source": [
        "# Print out model architecture summary\n",
        "model.summary()"
      ],
      "execution_count": 10,
      "outputs": [
        {
          "output_type": "stream",
          "name": "stdout",
          "text": [
            "Model: \"model\"\n",
            "__________________________________________________________________________________________________\n",
            " Layer (type)                   Output Shape         Param #     Connected to                     \n",
            "==================================================================================================\n",
            " input_1 (InputLayer)           [(None, 499)]        0           []                               \n",
            "                                                                                                  \n",
            " m_mo_e (MMoE)                  [(None, 4),          24000       ['input_1[0][0]']                \n",
            "                                 (None, 4)]                                                       \n",
            "                                                                                                  \n",
            " dense (Dense)                  (None, 8)            40          ['m_mo_e[0][0]']                 \n",
            "                                                                                                  \n",
            " dense_1 (Dense)                (None, 8)            40          ['m_mo_e[0][1]']                 \n",
            "                                                                                                  \n",
            " income (Dense)                 (None, 2)            18          ['dense[0][0]']                  \n",
            "                                                                                                  \n",
            " marital (Dense)                (None, 2)            18          ['dense_1[0][0]']                \n",
            "                                                                                                  \n",
            "==================================================================================================\n",
            "Total params: 24,116\n",
            "Trainable params: 24,116\n",
            "Non-trainable params: 0\n",
            "__________________________________________________________________________________________________\n"
          ]
        }
      ]
    },
    {
      "cell_type": "code",
      "metadata": {
        "colab": {
          "base_uri": "https://localhost:8080/"
        },
        "id": "znX1i3uIk0_H",
        "outputId": "7c5855f9-4dbc-45c1-c081-9794817a45c5"
      },
      "source": [
        "# Train the model\n",
        "model.fit(\n",
        "    x=train_data,\n",
        "    y=train_label,\n",
        "    validation_data=(validation_data, validation_label),\n",
        "    callbacks=[\n",
        "        ROCCallback(\n",
        "            training_data=(train_data, train_label),\n",
        "            validation_data=(validation_data, validation_label),\n",
        "            test_data=(test_data, test_label)\n",
        "        )\n",
        "    ],\n",
        "    epochs=10\n",
        ")"
      ],
      "execution_count": 11,
      "outputs": [
        {
          "output_type": "stream",
          "name": "stdout",
          "text": [
            "Epoch 1/10\n",
            "6228/6236 [============================>.] - ETA: 0s - loss: 0.4773 - income_loss: 0.1836 - marital_loss: 0.2937 - income_accuracy: 0.9378 - marital_accuracy: 0.8887ROC-AUC-income-Train: 0.9139 ROC-AUC-income-Validation: 0.9147 ROC-AUC-income-Test: 0.9137\n",
            "ROC-AUC-marital-Train: 0.968 ROC-AUC-marital-Validation: 0.958 ROC-AUC-marital-Test: 0.9595\n",
            "6236/6236 [==============================] - 43s 7ms/step - loss: 0.4771 - income_loss: 0.1835 - marital_loss: 0.2936 - income_accuracy: 0.9378 - marital_accuracy: 0.8888 - val_loss: 0.3661 - val_income_loss: 0.1647 - val_marital_loss: 0.2014 - val_income_accuracy: 0.9378 - val_marital_accuracy: 0.9313\n",
            "Epoch 2/10\n",
            "6225/6236 [============================>.] - ETA: 0s - loss: 0.3257 - income_loss: 0.1532 - marital_loss: 0.1725 - income_accuracy: 0.9379 - marital_accuracy: 0.9391ROC-AUC-income-Train: 0.917 ROC-AUC-income-Validation: 0.9146 ROC-AUC-income-Test: 0.9145\n",
            "ROC-AUC-marital-Train: 0.9746 ROC-AUC-marital-Validation: 0.9614 ROC-AUC-marital-Test: 0.9619\n",
            "6236/6236 [==============================] - 39s 6ms/step - loss: 0.3257 - income_loss: 0.1532 - marital_loss: 0.1725 - income_accuracy: 0.9379 - marital_accuracy: 0.9391 - val_loss: 0.3671 - val_income_loss: 0.1515 - val_marital_loss: 0.2157 - val_income_accuracy: 0.9378 - val_marital_accuracy: 0.9231\n",
            "Epoch 3/10\n",
            "6228/6236 [============================>.] - ETA: 0s - loss: 0.2957 - income_loss: 0.1511 - marital_loss: 0.1446 - income_accuracy: 0.9379 - marital_accuracy: 0.9467ROC-AUC-income-Train: 0.9183 ROC-AUC-income-Validation: 0.9152 ROC-AUC-income-Test: 0.9149\n",
            "ROC-AUC-marital-Train: 0.979 ROC-AUC-marital-Validation: 0.9658 ROC-AUC-marital-Test: 0.9652\n",
            "6236/6236 [==============================] - 34s 6ms/step - loss: 0.2957 - income_loss: 0.1511 - marital_loss: 0.1446 - income_accuracy: 0.9379 - marital_accuracy: 0.9467 - val_loss: 0.3668 - val_income_loss: 0.1644 - val_marital_loss: 0.2023 - val_income_accuracy: 0.9378 - val_marital_accuracy: 0.9258\n",
            "Epoch 4/10\n",
            "6235/6236 [============================>.] - ETA: 0s - loss: 0.2862 - income_loss: 0.1459 - marital_loss: 0.1403 - income_accuracy: 0.9379 - marital_accuracy: 0.9479ROC-AUC-income-Train: 0.9199 ROC-AUC-income-Validation: 0.9182 ROC-AUC-income-Test: 0.9185\n",
            "ROC-AUC-marital-Train: 0.9841 ROC-AUC-marital-Validation: 0.9699 ROC-AUC-marital-Test: 0.9699\n",
            "6236/6236 [==============================] - 36s 6ms/step - loss: 0.2862 - income_loss: 0.1459 - marital_loss: 0.1403 - income_accuracy: 0.9379 - marital_accuracy: 0.9479 - val_loss: 0.3860 - val_income_loss: 0.1490 - val_marital_loss: 0.2371 - val_income_accuracy: 0.9378 - val_marital_accuracy: 0.9094\n",
            "Epoch 5/10\n",
            "6232/6236 [============================>.] - ETA: 0s - loss: 0.2816 - income_loss: 0.1456 - marital_loss: 0.1359 - income_accuracy: 0.9379 - marital_accuracy: 0.9493ROC-AUC-income-Train: 0.9235 ROC-AUC-income-Validation: 0.9194 ROC-AUC-income-Test: 0.9184\n",
            "ROC-AUC-marital-Train: 0.982 ROC-AUC-marital-Validation: 0.9674 ROC-AUC-marital-Test: 0.9672\n",
            "6236/6236 [==============================] - 37s 6ms/step - loss: 0.2816 - income_loss: 0.1456 - marital_loss: 0.1360 - income_accuracy: 0.9379 - marital_accuracy: 0.9493 - val_loss: 0.3918 - val_income_loss: 0.1683 - val_marital_loss: 0.2235 - val_income_accuracy: 0.9378 - val_marital_accuracy: 0.9158\n",
            "Epoch 6/10\n",
            "6234/6236 [============================>.] - ETA: 0s - loss: 0.2772 - income_loss: 0.1432 - marital_loss: 0.1340 - income_accuracy: 0.9379 - marital_accuracy: 0.9498ROC-AUC-income-Train: 0.926 ROC-AUC-income-Validation: 0.9215 ROC-AUC-income-Test: 0.9215\n",
            "ROC-AUC-marital-Train: 0.9829 ROC-AUC-marital-Validation: 0.9648 ROC-AUC-marital-Test: 0.9646\n",
            "6236/6236 [==============================] - 37s 6ms/step - loss: 0.2771 - income_loss: 0.1432 - marital_loss: 0.1339 - income_accuracy: 0.9379 - marital_accuracy: 0.9498 - val_loss: 0.4545 - val_income_loss: 0.1725 - val_marital_loss: 0.2820 - val_income_accuracy: 0.9378 - val_marital_accuracy: 0.9056\n",
            "Epoch 7/10\n",
            "6226/6236 [============================>.] - ETA: 0s - loss: 0.2769 - income_loss: 0.1418 - marital_loss: 0.1351 - income_accuracy: 0.9379 - marital_accuracy: 0.9503ROC-AUC-income-Train: 0.9266 ROC-AUC-income-Validation: 0.9237 ROC-AUC-income-Test: 0.923\n",
            "ROC-AUC-marital-Train: 0.9859 ROC-AUC-marital-Validation: 0.9696 ROC-AUC-marital-Test: 0.9691\n",
            "6236/6236 [==============================] - 33s 5ms/step - loss: 0.2768 - income_loss: 0.1418 - marital_loss: 0.1350 - income_accuracy: 0.9379 - marital_accuracy: 0.9503 - val_loss: 0.3990 - val_income_loss: 0.1673 - val_marital_loss: 0.2317 - val_income_accuracy: 0.9378 - val_marital_accuracy: 0.9107\n",
            "Epoch 8/10\n",
            "6227/6236 [============================>.] - ETA: 0s - loss: 0.2707 - income_loss: 0.1421 - marital_loss: 0.1285 - income_accuracy: 0.9379 - marital_accuracy: 0.9511ROC-AUC-income-Train: 0.9369 ROC-AUC-income-Validation: 0.9342 ROC-AUC-income-Test: 0.9333\n",
            "ROC-AUC-marital-Train: 0.9839 ROC-AUC-marital-Validation: 0.964 ROC-AUC-marital-Test: 0.9636\n",
            "6236/6236 [==============================] - 35s 6ms/step - loss: 0.2706 - income_loss: 0.1421 - marital_loss: 0.1285 - income_accuracy: 0.9379 - marital_accuracy: 0.9511 - val_loss: 0.4183 - val_income_loss: 0.1769 - val_marital_loss: 0.2414 - val_income_accuracy: 0.9378 - val_marital_accuracy: 0.9090\n",
            "Epoch 9/10\n",
            "6225/6236 [============================>.] - ETA: 0s - loss: 0.2659 - income_loss: 0.1410 - marital_loss: 0.1249 - income_accuracy: 0.9379 - marital_accuracy: 0.9522ROC-AUC-income-Train: 0.9292 ROC-AUC-income-Validation: 0.9254 ROC-AUC-income-Test: 0.9245\n",
            "ROC-AUC-marital-Train: 0.9868 ROC-AUC-marital-Validation: 0.968 ROC-AUC-marital-Test: 0.9676\n",
            "6236/6236 [==============================] - 34s 5ms/step - loss: 0.2658 - income_loss: 0.1410 - marital_loss: 0.1248 - income_accuracy: 0.9379 - marital_accuracy: 0.9522 - val_loss: 0.4420 - val_income_loss: 0.1590 - val_marital_loss: 0.2830 - val_income_accuracy: 0.9378 - val_marital_accuracy: 0.8935\n",
            "Epoch 10/10\n",
            "6218/6236 [============================>.] - ETA: 0s - loss: 0.2663 - income_loss: 0.1398 - marital_loss: 0.1265 - income_accuracy: 0.9382 - marital_accuracy: 0.9519ROC-AUC-income-Train: 0.927 ROC-AUC-income-Validation: 0.9238 ROC-AUC-income-Test: 0.9218\n",
            "ROC-AUC-marital-Train: 0.9839 ROC-AUC-marital-Validation: 0.9661 ROC-AUC-marital-Test: 0.9659\n",
            "6236/6236 [==============================] - 34s 6ms/step - loss: 0.2663 - income_loss: 0.1399 - marital_loss: 0.1264 - income_accuracy: 0.9381 - marital_accuracy: 0.9519 - val_loss: 0.4029 - val_income_loss: 0.1658 - val_marital_loss: 0.2370 - val_income_accuracy: 0.9378 - val_marital_accuracy: 0.9114\n"
          ]
        },
        {
          "output_type": "execute_result",
          "data": {
            "text/plain": [
              "<keras.callbacks.History at 0x7f19cf5aaf10>"
            ]
          },
          "metadata": {},
          "execution_count": 11
        }
      ]
    }
  ]
}